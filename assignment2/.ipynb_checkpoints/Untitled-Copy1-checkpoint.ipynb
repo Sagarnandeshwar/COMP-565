{
 "cells": [
  {
   "cell_type": "code",
   "execution_count": 3,
   "id": "b2e6e3d9",
   "metadata": {},
   "outputs": [],
   "source": [
    "import pandas as pd\n",
    "from itertools import combinations\n",
    "from scipy.stats import multivariate_normal\n",
    "import numpy as np\n",
    "import matplotlib.pyplot as plt\n",
    "from scipy.stats import norm\n",
    "import math"
   ]
  },
  {
   "cell_type": "code",
   "execution_count": 4,
   "id": "dff64e53",
   "metadata": {},
   "outputs": [],
   "source": [
    "ld = pd.read_csv('LD.csv.gz', compression='gzip')\n",
    "snp_score = pd.read_csv('SNP_pip.csv.gz', compression='gzip')\n",
    "z_score = pd.read_csv('zscore.csv.gz', compression='gzip')\n",
    "all_snp = ld['Unnamed: 0'].values.tolist()"
   ]
  },
  {
   "cell_type": "code",
   "execution_count": 5,
   "id": "c18dbb06",
   "metadata": {},
   "outputs": [
    {
     "data": {
      "text/plain": [
       "'\\nprint(ld)\\nprint(snp_score)\\nprint(z_score)\\n'"
      ]
     },
     "execution_count": 5,
     "metadata": {},
     "output_type": "execute_result"
    }
   ],
   "source": [
    "\"\"\"\n",
    "print(ld)\n",
    "print(snp_score)\n",
    "print(z_score)\n",
    "\"\"\""
   ]
  },
  {
   "cell_type": "code",
   "execution_count": 6,
   "id": "09263c63",
   "metadata": {},
   "outputs": [],
   "source": [
    "def get_prior(k, m = 100):\n",
    "    x = 1 / m\n",
    "    y = (m - 1) / m\n",
    "    return pow(x, k) * pow(y, (m - k))\n",
    "\n",
    "prior_1 = get_prior(1)\n",
    "prior_2 = get_prior(2)\n",
    "prior_3 = get_prior(3)"
   ]
  },
  {
   "cell_type": "code",
   "execution_count": 7,
   "id": "cdf00b18",
   "metadata": {},
   "outputs": [],
   "source": [
    "def get_RCC(arr):\n",
    "    size_m = len(arr)\n",
    "    result = np.zeros((size_m,size_m))\n",
    "    for i in range(size_m):\n",
    "        for j in range(size_m):\n",
    "            if i == j:\n",
    "                value = 1.00\n",
    "            else:\n",
    "                value = ld.loc[ld['Unnamed: 0'] == arr[i]][arr[j]]\n",
    "            result[i][j] = value\n",
    "    return result\n",
    "\n",
    "def get_sum_CC(rcc):\n",
    "    x,y = rcc.shape\n",
    "    result = np.identity(x)\n",
    "    result = 2.49 * result\n",
    "    return result\n",
    "\n",
    "def get_r_star(arr):\n",
    "    r = get_RCC(arr)\n",
    "    s = get_sum_CC(r)\n",
    "    result = r + np.matmul(r,np.matmul(s,r))\n",
    "    return r, result"
   ]
  },
  {
   "cell_type": "code",
   "execution_count": 8,
   "id": "fc00b68b",
   "metadata": {},
   "outputs": [],
   "source": [
    "def configurations(all_snp,k):\n",
    "    return list(combinations(all_snp, k))\n",
    "\n",
    "config_1 = configurations(all_snp,1)\n",
    "config_2 = configurations(all_snp,2)\n",
    "config_3 = configurations(all_snp,3)"
   ]
  },
  {
   "cell_type": "code",
   "execution_count": 9,
   "id": "e35af60d",
   "metadata": {},
   "outputs": [],
   "source": [
    "# Get the z_cap value from z_score\n",
    "def get_z_cap(arr):\n",
    "    result = []\n",
    "    for snps in arr:\n",
    "        val = list(z_score.loc[z_score['Unnamed: 0'] == snps][\"V1\"])\n",
    "        result.append(val[0])\n",
    "    return result"
   ]
  },
  {
   "cell_type": "code",
   "execution_count": 10,
   "id": "df87719e",
   "metadata": {},
   "outputs": [
    {
     "data": {
      "text/plain": [
       "'\\n# Important example to use multivariate_normal.pdf\\narr =  [\"rs10104559\", \"rs10104559\",\"rs12676370\"]\\nrc, rf = ref(arr)\\nx = [0, 0, 0]\\nmodel_numerator = multivariate_normal(x, rf);\\nmodel_denominator = multivariate_normal(x, rc);\\nz_score = z_cap(arr):\\nmodel_numerator.pdf(z_score)\\nmodel_denominator.pdf(z_score)\\n'"
      ]
     },
     "execution_count": 10,
     "metadata": {},
     "output_type": "execute_result"
    }
   ],
   "source": [
    "\"\"\"\n",
    "# Important example to use multivariate_normal.pdf\n",
    "arr =  [\"rs10104559\", \"rs10104559\",\"rs12676370\"]\n",
    "rc, rf = ref(arr)\n",
    "x = [0, 0, 0]\n",
    "model_numerator = multivariate_normal(x, rf);\n",
    "model_denominator = multivariate_normal(x, rc);\n",
    "z_score = z_cap(arr):\n",
    "model_numerator.pdf(z_score)\n",
    "model_denominator.pdf(z_score)\n",
    "\"\"\""
   ]
  },
  {
   "cell_type": "code",
   "execution_count": 11,
   "id": "7445f70f",
   "metadata": {},
   "outputs": [],
   "source": [
    "def get_BF(snp_array):\n",
    "    z_score_array = get_z_cap(snp_array)\n",
    "    r_cc, r_star = get_r_star(snp_array)\n",
    "    n = len(snp_array)\n",
    "    x_mean = np.zeros(n)\n",
    "    model_numerator = multivariate_normal(x_mean, r_star);\n",
    "    model_denominator = multivariate_normal(x_mean, r_cc);\n",
    "    numerator = model_numerator.pdf(z_score_array)\n",
    "    denominator = model_denominator.pdf(z_score_array) \n",
    "    result = numerator / denominator\n",
    "    return result"
   ]
  },
  {
   "cell_type": "code",
   "execution_count": 12,
   "id": "842a060b",
   "metadata": {},
   "outputs": [
    {
     "name": "stdout",
     "output_type": "stream",
     "text": [
      "Config 1 done\n",
      "Config 2 done\n",
      "Config 3 done\n"
     ]
    }
   ],
   "source": [
    "dict_BF = {}\n",
    "\n",
    "for snps in config_1:\n",
    "    bf = get_BF(snps)\n",
    "    dict_BF[snps] = bf\n",
    "    \n",
    "print(\"Config 1 done\")\n",
    "\n",
    "for snps in config_2:\n",
    "    bf = get_BF(snps)\n",
    "    dict_BF[snps] = bf\n",
    "\n",
    "print(\"Config 2 done\")\n",
    "\n",
    "for snps in config_3:\n",
    "    bf = get_BF(snps)\n",
    "    dict_BF[snps] = bf\n",
    "\n",
    "print(\"Config 3 done\")\n",
    "\n"
   ]
  },
  {
   "cell_type": "code",
   "execution_count": 13,
   "id": "f990a607",
   "metadata": {},
   "outputs": [],
   "source": [
    "def sum_all_posterior(configs, pr):\n",
    "    result_sum = 0\n",
    "    for a_config in configs:\n",
    "        bf = dict_BF[a_config]\n",
    "        result_sum = result_sum + (bf*pr)\n",
    "    return result_sum"
   ]
  },
  {
   "cell_type": "code",
   "execution_count": 14,
   "id": "10aa0e47",
   "metadata": {},
   "outputs": [],
   "source": [
    "gaint_sum_1 = sum_all_posterior(config_1, prior_1)\n",
    "gaint_sum_2 = sum_all_posterior(config_2, prior_2)\n",
    "gaint_sum_3 = sum_all_posterior(config_3, prior_3)\n",
    "\n",
    "sum_posterior_dinominator = gaint_sum_1 + gaint_sum_2 + gaint_sum_3"
   ]
  },
  {
   "cell_type": "code",
   "execution_count": 15,
   "id": "619bf71d",
   "metadata": {},
   "outputs": [],
   "source": [
    "def get_posterior(snp_array, pr):\n",
    "    bf = dict_BF[snp_array]\n",
    "    numorator = bf * pr\n",
    "    denominator = sum_posterior_dinominator - numorator\n",
    "    return numorator / denominator"
   ]
  },
  {
   "cell_type": "code",
   "execution_count": 25,
   "id": "973c7791",
   "metadata": {},
   "outputs": [],
   "source": [
    "dict_posterior = {}\n",
    "# for graph\n",
    "all_posterior = []\n",
    "# for pip score\n",
    "sum_posterior = 0\n",
    "\n",
    "for snps in config_1:\n",
    "    a_posterior = get_posterior(snps, prior_1)\n",
    "    dict_posterior[snps] = a_posterior\n",
    "    all_posterior.append(a_posterior)\n",
    "    \n",
    "for snps in config_2:\n",
    "    a_posterior = get_posterior(snps, prior_2)\n",
    "    dict_posterior[snps] = a_posterior\n",
    "    all_posterior.append(a_posterior)\n",
    "    \n",
    "for snps in config_3:\n",
    "    a_posterior = get_posterior(snps, prior_3)\n",
    "    dict_posterior[snps] = a_posterior\n",
    "    all_posterior.append(a_posterior)\n",
    "    \n",
    "sum_posterior = np.sum(all_posterior)\n",
    "\n",
    "sort_all_post = sorted(all_posterior)"
   ]
  },
  {
   "cell_type": "code",
   "execution_count": 26,
   "id": "4bb6f670",
   "metadata": {},
   "outputs": [
    {
     "data": {
      "image/png": "[encoded data removed]",
      "text/plain": [
       "<Figure size 960x640 with 1 Axes>"
      ]
     },
     "metadata": {
      "needs_background": "light"
     },
     "output_type": "display_data"
    }
   ],
   "source": [
    "plt.figure(dpi=160)\n",
    "plt.plot(sort_all_post, 'o')\n",
    "plt.show()"
   ]
  },
  {
   "cell_type": "code",
   "execution_count": 27,
   "id": "bd947060",
   "metadata": {},
   "outputs": [],
   "source": [
    "def get_pip(a_snp):\n",
    "    numerator = 0\n",
    "    for a_config in config_1:\n",
    "        if a_snp in a_config:\n",
    "            numerator = numerator + dict_posterior[a_config]\n",
    "            \n",
    "    for a_config in config_2:\n",
    "        if a_snp in a_config:\n",
    "            numerator = numerator + dict_posterior[a_config]\n",
    "            \n",
    "    for a_config in config_3:\n",
    "        if a_snp in a_config:\n",
    "            numerator = numerator + dict_posterior[a_config]\n",
    "            \n",
    "    return (numerator / sum_posterior)"
   ]
  },
  {
   "cell_type": "code",
   "execution_count": 32,
   "id": "ea07f108",
   "metadata": {},
   "outputs": [],
   "source": [
    "all_pip_score = []\n",
    "for a_snp in all_snp:\n",
    "    pip_score = get_pip(a_snp)\n",
    "    all_pip_score.append(pip_score)"
   ]
  },
  {
   "cell_type": "code",
   "execution_count": 33,
   "id": "b8466b61",
   "metadata": {},
   "outputs": [
    {
     "data": {
      "image/png": "[encoded data removed]",
      "text/plain": [
       "<Figure size 960x640 with 1 Axes>"
      ]
     },
     "metadata": {
      "needs_background": "light"
     },
     "output_type": "display_data"
    }
   ],
   "source": [
    "plt.figure(dpi=160)\n",
    "plt.plot(all_pip_score, 'ro')\n",
    "plt.show()"
   ]
  },
  {
   "cell_type": "code",
   "execution_count": 76,
   "id": "9173ed21",
   "metadata": {},
   "outputs": [
    {
     "data": {
      "image/png": "[encoded data removed]",
      "text/plain": [
       "<Figure size 960x640 with 1 Axes>"
      ]
     },
     "metadata": {
      "needs_background": "light"
     },
     "output_type": "display_data"
    }
   ],
   "source": [
    "log_values = []\n",
    "\n",
    "z_score_list = z_score[\"V1\"]\n",
    "for a_pip_s in z_score_list:\n",
    "    val = norm.sf(a_pip_s)\n",
    "    x = - (math.log10(val))\n",
    "    log_values.append(x)\n",
    "\n",
    "plt.figure(dpi=160)\n",
    "plt.plot(log_values, 'ro')\n",
    "plt.show()"
   ]
  }
 ],
 "metadata": {
  "kernelspec": {
   "display_name": "Python 3 (ipykernel)",
   "language": "python",
   "name": "python3"
  },
  "language_info": {
   "codemirror_mode": {
    "name": "ipython",
    "version": 3
   },
   "file_extension": ".py",
   "mimetype": "text/x-python",
   "name": "python",
   "nbconvert_exporter": "python",
   "pygments_lexer": "ipython3",
   "version": "3.9.12"
  }
 },
 "nbformat": 4,
 "nbformat_minor": 5
}
